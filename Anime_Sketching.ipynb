{
  "nbformat": 4,
  "nbformat_minor": 0,
  "metadata": {
    "kernelspec": {
      "language": "python",
      "display_name": "Python 3",
      "name": "python3"
    },
    "language_info": {
      "pygments_lexer": "ipython3",
      "nbconvert_exporter": "python",
      "version": "3.6.4",
      "file_extension": ".py",
      "codemirror_mode": {
        "name": "ipython",
        "version": 3
      },
      "name": "python",
      "mimetype": "text/x-python"
    },
    "colab": {
      "name": "Anime Sketching.ipynb",
      "provenance": [],
      "include_colab_link": true
    }
  },
  "cells": [
    {
      "cell_type": "markdown",
      "metadata": {
        "id": "view-in-github",
        "colab_type": "text"
      },
      "source": [
        "<a href=\"https://colab.research.google.com/github/shreyashrawat/AnimeSketcher/blob/master/Anime_Sketching.ipynb\" target=\"_parent\"><img src=\"https://colab.research.google.com/assets/colab-badge.svg\" alt=\"Open In Colab\"/></a>"
      ]
    },
    {
      "cell_type": "markdown",
      "metadata": {
        "id": "Yov5emZSIe4Y",
        "colab_type": "text"
      },
      "source": [
        "# Kaggle Link - https://www.kaggle.com/shreyashrawat/anime-sketching/"
      ]
    },
    {
      "cell_type": "code",
      "metadata": {
        "id": "ggCDXB9CBSMp",
        "outputId": "84e4c024-7072-42a9-ae0c-87e5860e1adc",
        "trusted": true,
        "colab_type": "code",
        "colab": {}
      },
      "source": [
        "cd /kaggle/input/anime-sketch-colorization-pair/data/"
      ],
      "execution_count": 0,
      "outputs": [
        {
          "output_type": "stream",
          "text": [
            "/kaggle/input/anime-sketch-colorization-pair/data\n"
          ],
          "name": "stdout"
        }
      ]
    },
    {
      "cell_type": "code",
      "metadata": {
        "id": "RcrU1zP1TS3M",
        "outputId": "fbf3282c-991e-47a3-d1a0-75e4367be4a4",
        "trusted": true,
        "colab_type": "code",
        "colab": {}
      },
      "source": [
        "from keras.preprocessing.image import load_img, img_to_array, array_to_img\n",
        "import numpy as np\n",
        "import matplotlib.pyplot as plt\n",
        "import os"
      ],
      "execution_count": 0,
      "outputs": [
        {
          "output_type": "stream",
          "text": [
            "Using TensorFlow backend.\n"
          ],
          "name": "stderr"
        }
      ]
    },
    {
      "cell_type": "code",
      "metadata": {
        "id": "DDuz7pBAVGbA",
        "trusted": true,
        "colab_type": "code",
        "colab": {}
      },
      "source": [
        "def load_imgs(dir):\n",
        "  src_images, tar_images = [], []\n",
        "  for filename in os.listdir(dir)[:3000]:\n",
        "    img = load_img(dir + filename, target_size = (256,512,3))\n",
        "    pixels = img_to_array(img)\n",
        "    p1 = (pixels[:,:256] - 127.5) / 127.5\n",
        "    src_images.append(p1)\n",
        "    p2 = (pixels[:,256:] - 127.5) / 127.5\n",
        "    tar_images.append(p2)\n",
        "  return [np.asarray(src_images), np.asarray(tar_images)]\n",
        "  \n"
      ],
      "execution_count": 0,
      "outputs": []
    },
    {
      "cell_type": "code",
      "metadata": {
        "id": "9hAXcRAno2N2",
        "trusted": true,
        "colab_type": "code",
        "colab": {}
      },
      "source": [
        "data = load_imgs(\"train/\")"
      ],
      "execution_count": 0,
      "outputs": []
    },
    {
      "cell_type": "code",
      "metadata": {
        "id": "NezC40V7sa7J",
        "trusted": true,
        "colab_type": "code",
        "colab": {}
      },
      "source": [
        "from keras.initializers import RandomNormal\n",
        "from keras.layers import Conv2D, Conv2DTranspose, Dense, Dropout, BatchNormalization, LeakyReLU, Activation, Input, Concatenate\n",
        "from keras.models import Model\n",
        "import keras"
      ],
      "execution_count": 0,
      "outputs": []
    },
    {
      "cell_type": "code",
      "metadata": {
        "id": "r9--c_2upSOA",
        "trusted": true,
        "colab_type": "code",
        "colab": {}
      },
      "source": [
        "def discriminator(inp_shape = (256, 256,3)):\n",
        "\n",
        "  in_src_img = Input(inp_shape)\n",
        "  in_tar_img = Input(inp_shape)\n",
        "  init = RandomNormal(0.02)\n",
        "  merge = Concatenate()([in_src_img, in_tar_img])\n",
        "\n",
        "  g = Conv2D(64, (4,4), strides = (2,2), padding = \"same\", kernel_initializer=init)(merge)\n",
        "  g = LeakyReLU(0.2)(g)\n",
        "\n",
        "  g = Conv2D(128, (4,4), strides = (2,2), padding = \"same\", kernel_initializer=init)(g)\n",
        "  g = BatchNormalization()(g)\n",
        "  g = LeakyReLU(0.2)(g)\n",
        "\n",
        "  g = Conv2D(256, (4,4), strides = (2,2), padding = \"same\", kernel_initializer=init)(g)\n",
        "  g = BatchNormalization()(g)\n",
        "  g = LeakyReLU(0.2)(g)\n",
        "\n",
        "  g = Conv2D(512, (4,4), strides = (2,2), padding = \"same\", kernel_initializer=init)(g)\n",
        "  g = BatchNormalization()(g)\n",
        "  g = LeakyReLU(0.2)(g)\n",
        "\n",
        "  g = Conv2D(512, (4,4),  padding = \"same\", kernel_initializer=init)(g)\n",
        "  g = BatchNormalization()(g)\n",
        "  g = LeakyReLU(0.2)(g)\n",
        "\n",
        "  g = Conv2D(1, (4,4), padding = \"same\", kernel_initializer=init)(g)\n",
        "  patch_out = Activation(\"sigmoid\")(g)\n",
        "\n",
        "  model = Model([in_src_img, in_tar_img], patch_out)\n",
        "  model.compile(optimizer = keras.optimizers.Adam(0.0002, 0.5), loss = \"binary_crossentropy\", loss_weights = [0.5])\n",
        "  return model"
      ],
      "execution_count": 0,
      "outputs": []
    },
    {
      "cell_type": "code",
      "metadata": {
        "id": "K_EQeaCcvegS",
        "trusted": true,
        "colab_type": "code",
        "colab": {}
      },
      "source": [
        "d_model = discriminator()"
      ],
      "execution_count": 0,
      "outputs": []
    },
    {
      "cell_type": "code",
      "metadata": {
        "id": "NroBiO4tvurm",
        "trusted": true,
        "colab_type": "code",
        "colab": {}
      },
      "source": [
        "def encoder_unit(in_layer, n_filters, batch_norm = True):\n",
        "  init = RandomNormal(0.02)\n",
        "  g = Conv2D(n_filters, (4,4), strides = (2,2), kernel_initializer=init, padding = \"same\")(in_layer)\n",
        "  if batch_norm:\n",
        "    g = BatchNormalization()(g, training = True)\n",
        "  g = LeakyReLU(0.2)(g)\n",
        "  return g"
      ],
      "execution_count": 0,
      "outputs": []
    },
    {
      "cell_type": "code",
      "metadata": {
        "id": "XJUDuNToxh6X",
        "trusted": true,
        "colab_type": "code",
        "colab": {}
      },
      "source": [
        "def decoder_unit(in_layer, merge_layer, n_filters, dropout = True):\n",
        "  init = RandomNormal(0.02)\n",
        "  g = Conv2DTranspose(n_filters, (4,4), strides = (2,2), padding = \"same\", kernel_initializer=init)(in_layer)\n",
        "  g = BatchNormalization()(g, training = True)\n",
        "  if dropout:\n",
        "    g = Dropout(0.5)(g)\n",
        "  g = Concatenate()([g, merge_layer])\n",
        "  g = Activation(\"relu\")(g)\n",
        "\n",
        "  return g"
      ],
      "execution_count": 0,
      "outputs": []
    },
    {
      "cell_type": "code",
      "metadata": {
        "id": "gdufu5cR281S",
        "trusted": true,
        "colab_type": "code",
        "colab": {}
      },
      "source": [
        "def generator(inp_shape = (256,256,3)):\n",
        "  init = RandomNormal(0.02)\n",
        "  in_img = Input(inp_shape)\n",
        "  g1 = encoder_unit(in_img, 64, batch_norm = False)\n",
        "  g2 = encoder_unit(g1, 128)\n",
        "  g3 = encoder_unit(g2, 256) \n",
        "  g4 = encoder_unit(g3, 512)\n",
        "  g5 = encoder_unit(g4, 512)\n",
        "  g6 = encoder_unit(g5, 512)\n",
        "  g7 = encoder_unit(g6, 512)\n",
        "\n",
        "  bottleneck = Conv2D(512, (4,4), strides = (2,2), padding = \"same\", kernel_initializer=init)(g7)\n",
        "  bottleneck = Activation(\"relu\")(bottleneck)\n",
        "\n",
        "  e1 = decoder_unit(bottleneck, g7, 512)\n",
        "  e2 = decoder_unit(e1, g6, 512)\n",
        "  e3 = decoder_unit(e2, g5, 512)\n",
        "  e4 = decoder_unit(e3, g4, 512, dropout = False)\n",
        "  e5 = decoder_unit(e4, g3, 256, dropout = False)\n",
        "  e6 = decoder_unit(e5, g2, 128, dropout = False)\n",
        "  e7 = decoder_unit(e6, g1, 64, dropout = False)\n",
        "\n",
        "  patch = Conv2DTranspose(3, (4,4), strides = (2,2), padding = \"same\", kernel_initializer=init)(e7)\n",
        "  patch_out = Activation(\"tanh\")(patch)\n",
        "\n",
        "  model = Model(in_img, patch_out)\n",
        "  return model"
      ],
      "execution_count": 0,
      "outputs": []
    },
    {
      "cell_type": "code",
      "metadata": {
        "id": "_nTpI57J-tYh",
        "trusted": true,
        "colab_type": "code",
        "colab": {}
      },
      "source": [
        "g_model = generator()"
      ],
      "execution_count": 0,
      "outputs": []
    },
    {
      "cell_type": "code",
      "metadata": {
        "id": "BUeMm3Sc-0b4",
        "outputId": "152662b3-4272-42f7-af61-8da5f22b43ba",
        "trusted": true,
        "colab_type": "code",
        "colab": {}
      },
      "source": [
        "g_model.summary()"
      ],
      "execution_count": 0,
      "outputs": [
        {
          "output_type": "stream",
          "text": [
            "Model: \"model_2\"\n",
            "__________________________________________________________________________________________________\n",
            "Layer (type)                    Output Shape         Param #     Connected to                     \n",
            "==================================================================================================\n",
            "input_3 (InputLayer)            (None, 256, 256, 3)  0                                            \n",
            "__________________________________________________________________________________________________\n",
            "conv2d_7 (Conv2D)               (None, 128, 128, 64) 3136        input_3[0][0]                    \n",
            "__________________________________________________________________________________________________\n",
            "leaky_re_lu_6 (LeakyReLU)       (None, 128, 128, 64) 0           conv2d_7[0][0]                   \n",
            "__________________________________________________________________________________________________\n",
            "conv2d_8 (Conv2D)               (None, 64, 64, 128)  131200      leaky_re_lu_6[0][0]              \n",
            "__________________________________________________________________________________________________\n",
            "batch_normalization_5 (BatchNor (None, 64, 64, 128)  512         conv2d_8[0][0]                   \n",
            "__________________________________________________________________________________________________\n",
            "leaky_re_lu_7 (LeakyReLU)       (None, 64, 64, 128)  0           batch_normalization_5[0][0]      \n",
            "__________________________________________________________________________________________________\n",
            "conv2d_9 (Conv2D)               (None, 32, 32, 256)  524544      leaky_re_lu_7[0][0]              \n",
            "__________________________________________________________________________________________________\n",
            "batch_normalization_6 (BatchNor (None, 32, 32, 256)  1024        conv2d_9[0][0]                   \n",
            "__________________________________________________________________________________________________\n",
            "leaky_re_lu_8 (LeakyReLU)       (None, 32, 32, 256)  0           batch_normalization_6[0][0]      \n",
            "__________________________________________________________________________________________________\n",
            "conv2d_10 (Conv2D)              (None, 16, 16, 512)  2097664     leaky_re_lu_8[0][0]              \n",
            "__________________________________________________________________________________________________\n",
            "batch_normalization_7 (BatchNor (None, 16, 16, 512)  2048        conv2d_10[0][0]                  \n",
            "__________________________________________________________________________________________________\n",
            "leaky_re_lu_9 (LeakyReLU)       (None, 16, 16, 512)  0           batch_normalization_7[0][0]      \n",
            "__________________________________________________________________________________________________\n",
            "conv2d_11 (Conv2D)              (None, 8, 8, 512)    4194816     leaky_re_lu_9[0][0]              \n",
            "__________________________________________________________________________________________________\n",
            "batch_normalization_8 (BatchNor (None, 8, 8, 512)    2048        conv2d_11[0][0]                  \n",
            "__________________________________________________________________________________________________\n",
            "leaky_re_lu_10 (LeakyReLU)      (None, 8, 8, 512)    0           batch_normalization_8[0][0]      \n",
            "__________________________________________________________________________________________________\n",
            "conv2d_12 (Conv2D)              (None, 4, 4, 512)    4194816     leaky_re_lu_10[0][0]             \n",
            "__________________________________________________________________________________________________\n",
            "batch_normalization_9 (BatchNor (None, 4, 4, 512)    2048        conv2d_12[0][0]                  \n",
            "__________________________________________________________________________________________________\n",
            "leaky_re_lu_11 (LeakyReLU)      (None, 4, 4, 512)    0           batch_normalization_9[0][0]      \n",
            "__________________________________________________________________________________________________\n",
            "conv2d_13 (Conv2D)              (None, 2, 2, 512)    4194816     leaky_re_lu_11[0][0]             \n",
            "__________________________________________________________________________________________________\n",
            "batch_normalization_10 (BatchNo (None, 2, 2, 512)    2048        conv2d_13[0][0]                  \n",
            "__________________________________________________________________________________________________\n",
            "leaky_re_lu_12 (LeakyReLU)      (None, 2, 2, 512)    0           batch_normalization_10[0][0]     \n",
            "__________________________________________________________________________________________________\n",
            "conv2d_14 (Conv2D)              (None, 1, 1, 512)    4194816     leaky_re_lu_12[0][0]             \n",
            "__________________________________________________________________________________________________\n",
            "activation_2 (Activation)       (None, 1, 1, 512)    0           conv2d_14[0][0]                  \n",
            "__________________________________________________________________________________________________\n",
            "conv2d_transpose_1 (Conv2DTrans (None, 2, 2, 512)    4194816     activation_2[0][0]               \n",
            "__________________________________________________________________________________________________\n",
            "batch_normalization_11 (BatchNo (None, 2, 2, 512)    2048        conv2d_transpose_1[0][0]         \n",
            "__________________________________________________________________________________________________\n",
            "dropout_1 (Dropout)             (None, 2, 2, 512)    0           batch_normalization_11[0][0]     \n",
            "__________________________________________________________________________________________________\n",
            "concatenate_2 (Concatenate)     (None, 2, 2, 1024)   0           dropout_1[0][0]                  \n",
            "                                                                 leaky_re_lu_12[0][0]             \n",
            "__________________________________________________________________________________________________\n",
            "activation_3 (Activation)       (None, 2, 2, 1024)   0           concatenate_2[0][0]              \n",
            "__________________________________________________________________________________________________\n",
            "conv2d_transpose_2 (Conv2DTrans (None, 4, 4, 512)    8389120     activation_3[0][0]               \n",
            "__________________________________________________________________________________________________\n",
            "batch_normalization_12 (BatchNo (None, 4, 4, 512)    2048        conv2d_transpose_2[0][0]         \n",
            "__________________________________________________________________________________________________\n",
            "dropout_2 (Dropout)             (None, 4, 4, 512)    0           batch_normalization_12[0][0]     \n",
            "__________________________________________________________________________________________________\n",
            "concatenate_3 (Concatenate)     (None, 4, 4, 1024)   0           dropout_2[0][0]                  \n",
            "                                                                 leaky_re_lu_11[0][0]             \n",
            "__________________________________________________________________________________________________\n",
            "activation_4 (Activation)       (None, 4, 4, 1024)   0           concatenate_3[0][0]              \n",
            "__________________________________________________________________________________________________\n",
            "conv2d_transpose_3 (Conv2DTrans (None, 8, 8, 512)    8389120     activation_4[0][0]               \n",
            "__________________________________________________________________________________________________\n",
            "batch_normalization_13 (BatchNo (None, 8, 8, 512)    2048        conv2d_transpose_3[0][0]         \n",
            "__________________________________________________________________________________________________\n",
            "dropout_3 (Dropout)             (None, 8, 8, 512)    0           batch_normalization_13[0][0]     \n",
            "__________________________________________________________________________________________________\n",
            "concatenate_4 (Concatenate)     (None, 8, 8, 1024)   0           dropout_3[0][0]                  \n",
            "                                                                 leaky_re_lu_10[0][0]             \n",
            "__________________________________________________________________________________________________\n",
            "activation_5 (Activation)       (None, 8, 8, 1024)   0           concatenate_4[0][0]              \n",
            "__________________________________________________________________________________________________\n",
            "conv2d_transpose_4 (Conv2DTrans (None, 16, 16, 512)  8389120     activation_5[0][0]               \n",
            "__________________________________________________________________________________________________\n",
            "batch_normalization_14 (BatchNo (None, 16, 16, 512)  2048        conv2d_transpose_4[0][0]         \n",
            "__________________________________________________________________________________________________\n",
            "concatenate_5 (Concatenate)     (None, 16, 16, 1024) 0           batch_normalization_14[0][0]     \n",
            "                                                                 leaky_re_lu_9[0][0]              \n",
            "__________________________________________________________________________________________________\n",
            "activation_6 (Activation)       (None, 16, 16, 1024) 0           concatenate_5[0][0]              \n",
            "__________________________________________________________________________________________________\n",
            "conv2d_transpose_5 (Conv2DTrans (None, 32, 32, 256)  4194560     activation_6[0][0]               \n",
            "__________________________________________________________________________________________________\n",
            "batch_normalization_15 (BatchNo (None, 32, 32, 256)  1024        conv2d_transpose_5[0][0]         \n",
            "__________________________________________________________________________________________________\n",
            "concatenate_6 (Concatenate)     (None, 32, 32, 512)  0           batch_normalization_15[0][0]     \n",
            "                                                                 leaky_re_lu_8[0][0]              \n",
            "__________________________________________________________________________________________________\n",
            "activation_7 (Activation)       (None, 32, 32, 512)  0           concatenate_6[0][0]              \n",
            "__________________________________________________________________________________________________\n",
            "conv2d_transpose_6 (Conv2DTrans (None, 64, 64, 128)  1048704     activation_7[0][0]               \n",
            "__________________________________________________________________________________________________\n",
            "batch_normalization_16 (BatchNo (None, 64, 64, 128)  512         conv2d_transpose_6[0][0]         \n",
            "__________________________________________________________________________________________________\n",
            "concatenate_7 (Concatenate)     (None, 64, 64, 256)  0           batch_normalization_16[0][0]     \n",
            "                                                                 leaky_re_lu_7[0][0]              \n",
            "__________________________________________________________________________________________________\n",
            "activation_8 (Activation)       (None, 64, 64, 256)  0           concatenate_7[0][0]              \n",
            "__________________________________________________________________________________________________\n",
            "conv2d_transpose_7 (Conv2DTrans (None, 128, 128, 64) 262208      activation_8[0][0]               \n",
            "__________________________________________________________________________________________________\n",
            "batch_normalization_17 (BatchNo (None, 128, 128, 64) 256         conv2d_transpose_7[0][0]         \n",
            "__________________________________________________________________________________________________\n",
            "concatenate_8 (Concatenate)     (None, 128, 128, 128 0           batch_normalization_17[0][0]     \n",
            "                                                                 leaky_re_lu_6[0][0]              \n",
            "__________________________________________________________________________________________________\n",
            "activation_9 (Activation)       (None, 128, 128, 128 0           concatenate_8[0][0]              \n",
            "__________________________________________________________________________________________________\n",
            "conv2d_transpose_8 (Conv2DTrans (None, 256, 256, 3)  6147        activation_9[0][0]               \n",
            "__________________________________________________________________________________________________\n",
            "activation_10 (Activation)      (None, 256, 256, 3)  0           conv2d_transpose_8[0][0]         \n",
            "==================================================================================================\n",
            "Total params: 54,429,315\n",
            "Trainable params: 54,419,459\n",
            "Non-trainable params: 9,856\n",
            "__________________________________________________________________________________________________\n"
          ],
          "name": "stdout"
        }
      ]
    },
    {
      "cell_type": "code",
      "metadata": {
        "id": "VXCm0c5G-5Ry",
        "trusted": true,
        "colab_type": "code",
        "colab": {}
      },
      "source": [
        "def gan(d_model, g_model, inp_shape = (256,256,3)):\n",
        "  d_model.trainable = False\n",
        "  in_img = Input(inp_shape)\n",
        "  g_out = g_model(in_img)\n",
        "  d_out = d_model([in_img, g_out])\n",
        "  model = Model(in_img, [d_out, g_out])\n",
        "  model.compile(keras.optimizers.Adam(0.0002, 0.5), loss = ['binary_crossentropy', \"mae\"], loss_weights = [1,100])\n",
        "  return model"
      ],
      "execution_count": 0,
      "outputs": []
    },
    {
      "cell_type": "code",
      "metadata": {
        "id": "u7WZfqmm_73I",
        "trusted": true,
        "colab_type": "code",
        "colab": {}
      },
      "source": [
        "gan_model = gan(d_model, g_model)"
      ],
      "execution_count": 0,
      "outputs": []
    },
    {
      "cell_type": "code",
      "metadata": {
        "id": "G82RqYOUARas",
        "outputId": "644260c7-a949-4312-82d9-2cac65f74778",
        "trusted": true,
        "colab_type": "code",
        "colab": {}
      },
      "source": [
        "gan_model.summary()"
      ],
      "execution_count": 0,
      "outputs": [
        {
          "output_type": "stream",
          "text": [
            "Model: \"model_3\"\n",
            "__________________________________________________________________________________________________\n",
            "Layer (type)                    Output Shape         Param #     Connected to                     \n",
            "==================================================================================================\n",
            "input_4 (InputLayer)            (None, 256, 256, 3)  0                                            \n",
            "__________________________________________________________________________________________________\n",
            "model_2 (Model)                 (None, 256, 256, 3)  54429315    input_4[0][0]                    \n",
            "__________________________________________________________________________________________________\n",
            "model_1 (Model)                 (None, 16, 16, 1)    6968257     input_4[0][0]                    \n",
            "                                                                 model_2[1][0]                    \n",
            "==================================================================================================\n",
            "Total params: 61,397,572\n",
            "Trainable params: 54,419,459\n",
            "Non-trainable params: 6,978,113\n",
            "__________________________________________________________________________________________________\n"
          ],
          "name": "stdout"
        }
      ]
    },
    {
      "cell_type": "code",
      "metadata": {
        "id": "p1ruk2H9Ak7n",
        "trusted": true,
        "colab_type": "code",
        "colab": {}
      },
      "source": [
        "def generate_real_samples(data, batch_size, patch_size):\n",
        "  src_imgs = data[0]\n",
        "  tar_imgs = data[1]\n",
        "  ind = np.random.randint(0, src_imgs.shape[0], batch_size)\n",
        "  X_real, X_fake = src_imgs[ind], tar_imgs[ind]\n",
        "  y = np.ones((batch_size, patch_size, patch_size, 1))\n",
        "  return [X_real, X_fake], y"
      ],
      "execution_count": 0,
      "outputs": []
    },
    {
      "cell_type": "code",
      "metadata": {
        "id": "X5zCGvPLvfMb",
        "trusted": true,
        "colab_type": "code",
        "colab": {}
      },
      "source": [
        "o = generate_real_samples(data, 2, 70)"
      ],
      "execution_count": 0,
      "outputs": []
    },
    {
      "cell_type": "code",
      "metadata": {
        "id": "67Jbf3VZv1u8",
        "outputId": "a9ce05d5-66f7-48fd-bd3b-223cc1ffbefc",
        "trusted": true,
        "colab_type": "code",
        "colab": {}
      },
      "source": [
        "o[0][0].shape"
      ],
      "execution_count": 0,
      "outputs": [
        {
          "output_type": "execute_result",
          "data": {
            "text/plain": [
              "(2, 256, 256, 3)"
            ]
          },
          "metadata": {
            "tags": []
          },
          "execution_count": 18
        }
      ]
    },
    {
      "cell_type": "code",
      "metadata": {
        "id": "e0QQx4G5v92y",
        "trusted": true,
        "colab_type": "code",
        "colab": {}
      },
      "source": [
        "def generate_fake_samples(g_model,samples, patch_size):\n",
        "  pred = g_model.predict(samples)\n",
        "  y = np.zeros((len(pred), patch_size, patch_size, 1))\n",
        "  return pred, y"
      ],
      "execution_count": 0,
      "outputs": []
    },
    {
      "cell_type": "code",
      "metadata": {
        "id": "yUJXVxnF1JTg",
        "trusted": true,
        "colab_type": "code",
        "colab": {}
      },
      "source": [
        "def summarize_performance(g_model, dataset,step, n_samples = 3):\n",
        "    [X_real_src, X_real_tar], y_real = generate_real_samples(dataset, 3,1)\n",
        "    X_fake_tar, _ = generate_fake_samples(g_model, X_real_src, 1)\n",
        "    X_real_src = (X_real_src + 1) / 2.0\n",
        "    X_real_tar = (X_real_tar + 1) / 2.0\n",
        "    X_fake_tar = (X_fake_tar + 1) / 2.0\n",
        "\t# plot real source images\n",
        "    plt.figure(figsize = (12,8))\n",
        "    for i in range(n_samples):\n",
        "        plt.subplot(2, n_samples, 1 + i)\n",
        "        plt.axis('off')\n",
        "        plt.imshow(X_real_src[i])\n",
        "\t# plot generated target image\n",
        "  \n",
        "    for i in range(n_samples):\n",
        "        plt.subplot(2, n_samples, 1 + n_samples + i)\n",
        "        plt.axis('off')\n",
        "        plt.imshow(X_fake_tar[i])\n",
        "\t# plot real target image\n",
        "#     for i in range(n_samples):\n",
        "#         plt.subplot(3, n_samples, 1 + n_samples*2 + i)\n",
        "#         plt.axis('off')\n",
        "#         plt.imshow(X_real_tar[i])\n",
        "        # save plot to file\n",
        "    plt.plot()\n",
        "#     filename1 = 'images/plot_%06d.png' % (step+1)\n",
        "#     plt.savefig(filename1)\n",
        "#     plt.close()\n",
        "#     #save the generator model\n",
        "#     filename2 = 'models/model_%06d.h5' % (step+1)\n",
        "#     g_model.save(filename2)"
      ],
      "execution_count": 0,
      "outputs": []
    },
    {
      "cell_type": "code",
      "metadata": {
        "trusted": true,
        "id": "m3zZc6pCH6Bh",
        "colab_type": "code",
        "colab": {},
        "outputId": "3eb73842-16a6-4488-ddec-86009b95ac21"
      },
      "source": [
        "cd "
      ],
      "execution_count": 0,
      "outputs": [
        {
          "output_type": "stream",
          "text": [
            "/root\n"
          ],
          "name": "stdout"
        }
      ]
    },
    {
      "cell_type": "code",
      "metadata": {
        "trusted": true,
        "id": "3J3zLKUUH6Bl",
        "colab_type": "code",
        "colab": {},
        "outputId": "93f96cb5-ecea-4e9f-93a9-402e3680eb07"
      },
      "source": [
        "cd /kaggle/working"
      ],
      "execution_count": 0,
      "outputs": [
        {
          "output_type": "stream",
          "text": [
            "/kaggle/working\n"
          ],
          "name": "stdout"
        }
      ]
    },
    {
      "cell_type": "code",
      "metadata": {
        "trusted": true,
        "id": "QfN4K44nH6Bo",
        "colab_type": "code",
        "colab": {}
      },
      "source": [
        "!rm -rf images"
      ],
      "execution_count": 0,
      "outputs": []
    },
    {
      "cell_type": "code",
      "metadata": {
        "trusted": true,
        "id": "KKSc6jwiH6Bs",
        "colab_type": "code",
        "colab": {}
      },
      "source": [
        "!rm -rf models"
      ],
      "execution_count": 0,
      "outputs": []
    },
    {
      "cell_type": "code",
      "metadata": {
        "trusted": true,
        "id": "2CHKbSwFH6Bw",
        "colab_type": "code",
        "colab": {}
      },
      "source": [
        "\n",
        "mkdir images"
      ],
      "execution_count": 0,
      "outputs": []
    },
    {
      "cell_type": "code",
      "metadata": {
        "trusted": true,
        "id": "gjdRu1d7H6B1",
        "colab_type": "code",
        "colab": {}
      },
      "source": [
        "mkdir models"
      ],
      "execution_count": 0,
      "outputs": []
    },
    {
      "cell_type": "code",
      "metadata": {
        "id": "w-I3IIgVxTBK",
        "trusted": true,
        "colab_type": "code",
        "colab": {}
      },
      "source": [
        "def train(d_model, g_model, gan_model, dataset, epochs = 3, batch_size = 1):\n",
        "  steps = dataset[0].shape[0] * epochs\n",
        "  patch_size = d_model.output_shape[1]\n",
        "  for i in range(steps):\n",
        "    [X_real_src, X_real_tar], y_real = generate_real_samples(dataset, batch_size, patch_size)\n",
        "    X_fake, y_fake = generate_fake_samples(g_model, X_real_src, patch_size)\n",
        "    d_loss1 = d_model.train_on_batch([X_real_src, X_real_tar], y_real)\n",
        "    d_loss2 = d_model.train_on_batch([X_real_src, X_fake], y_fake)\n",
        "    g_loss, _,_ = gan_model.train_on_batch(X_real_src, [y_real, X_real_tar])\n",
        "    if((i+1)%500 == 0):\n",
        "        print(\">%d  d1 = [%.3f]  d2 = [%0.3f]  g = [%.3f]\" % (i+1, d_loss1, d_loss2, g_loss))\n",
        "    if((i+1)%7000 == 0):\n",
        "        summarize_performance(g_model, dataset, i + 1)\n"
      ],
      "execution_count": 0,
      "outputs": []
    },
    {
      "cell_type": "code",
      "metadata": {
        "id": "W6GTH76A0a1I",
        "outputId": "e4ebe0fb-4c4d-4d8d-f14e-ffdefd945472",
        "trusted": true,
        "colab_type": "code",
        "colab": {}
      },
      "source": [
        "train(d_model, g_model, gan_model, data)"
      ],
      "execution_count": 0,
      "outputs": [
        {
          "output_type": "stream",
          "text": [
            "/opt/conda/lib/python3.7/site-packages/keras/engine/training.py:297: UserWarning: Discrepancy between trainable weights and collected trainable weights, did you set `model.trainable` without calling `model.compile` after ?\n",
            "  'Discrepancy between trainable weights and collected trainable'\n",
            "/opt/conda/lib/python3.7/site-packages/keras/engine/training.py:297: UserWarning: Discrepancy between trainable weights and collected trainable weights, did you set `model.trainable` without calling `model.compile` after ?\n",
            "  'Discrepancy between trainable weights and collected trainable'\n",
            "/opt/conda/lib/python3.7/site-packages/keras/engine/training.py:297: UserWarning: Discrepancy between trainable weights and collected trainable weights, did you set `model.trainable` without calling `model.compile` after ?\n",
            "  'Discrepancy between trainable weights and collected trainable'\n"
          ],
          "name": "stderr"
        },
        {
          "output_type": "stream",
          "text": [
            ">500  d1 = [0.395]  d2 = [0.351]  g = [9.010]\n",
            ">1000  d1 = [0.314]  d2 = [0.383]  g = [18.041]\n"
          ],
          "name": "stdout"
        },
        {
          "output_type": "error",
          "ename": "KeyboardInterrupt",
          "evalue": "",
          "traceback": [
            "\u001b[0;31m---------------------------------------------------------------------------\u001b[0m",
            "\u001b[0;31mKeyboardInterrupt\u001b[0m                         Traceback (most recent call last)",
            "\u001b[0;32m<ipython-input-28-344b17c10de4>\u001b[0m in \u001b[0;36m<module>\u001b[0;34m\u001b[0m\n\u001b[0;32m----> 1\u001b[0;31m \u001b[0mtrain\u001b[0m\u001b[0;34m(\u001b[0m\u001b[0md_model\u001b[0m\u001b[0;34m,\u001b[0m \u001b[0mg_model\u001b[0m\u001b[0;34m,\u001b[0m \u001b[0mgan_model\u001b[0m\u001b[0;34m,\u001b[0m \u001b[0mdata\u001b[0m\u001b[0;34m)\u001b[0m\u001b[0;34m\u001b[0m\u001b[0;34m\u001b[0m\u001b[0m\n\u001b[0m",
            "\u001b[0;32m<ipython-input-27-cb0bd28f3d9e>\u001b[0m in \u001b[0;36mtrain\u001b[0;34m(d_model, g_model, gan_model, dataset, epochs, batch_size)\u001b[0m\n\u001b[1;32m      7\u001b[0m     \u001b[0md_loss1\u001b[0m \u001b[0;34m=\u001b[0m \u001b[0md_model\u001b[0m\u001b[0;34m.\u001b[0m\u001b[0mtrain_on_batch\u001b[0m\u001b[0;34m(\u001b[0m\u001b[0;34m[\u001b[0m\u001b[0mX_real_src\u001b[0m\u001b[0;34m,\u001b[0m \u001b[0mX_real_tar\u001b[0m\u001b[0;34m]\u001b[0m\u001b[0;34m,\u001b[0m \u001b[0my_real\u001b[0m\u001b[0;34m)\u001b[0m\u001b[0;34m\u001b[0m\u001b[0;34m\u001b[0m\u001b[0m\n\u001b[1;32m      8\u001b[0m     \u001b[0md_loss2\u001b[0m \u001b[0;34m=\u001b[0m \u001b[0md_model\u001b[0m\u001b[0;34m.\u001b[0m\u001b[0mtrain_on_batch\u001b[0m\u001b[0;34m(\u001b[0m\u001b[0;34m[\u001b[0m\u001b[0mX_real_src\u001b[0m\u001b[0;34m,\u001b[0m \u001b[0mX_fake\u001b[0m\u001b[0;34m]\u001b[0m\u001b[0;34m,\u001b[0m \u001b[0my_fake\u001b[0m\u001b[0;34m)\u001b[0m\u001b[0;34m\u001b[0m\u001b[0;34m\u001b[0m\u001b[0m\n\u001b[0;32m----> 9\u001b[0;31m     \u001b[0mg_loss\u001b[0m\u001b[0;34m,\u001b[0m \u001b[0m_\u001b[0m\u001b[0;34m,\u001b[0m\u001b[0m_\u001b[0m \u001b[0;34m=\u001b[0m \u001b[0mgan_model\u001b[0m\u001b[0;34m.\u001b[0m\u001b[0mtrain_on_batch\u001b[0m\u001b[0;34m(\u001b[0m\u001b[0mX_real_src\u001b[0m\u001b[0;34m,\u001b[0m \u001b[0;34m[\u001b[0m\u001b[0my_real\u001b[0m\u001b[0;34m,\u001b[0m \u001b[0mX_real_tar\u001b[0m\u001b[0;34m]\u001b[0m\u001b[0;34m)\u001b[0m\u001b[0;34m\u001b[0m\u001b[0;34m\u001b[0m\u001b[0m\n\u001b[0m\u001b[1;32m     10\u001b[0m     \u001b[0;32mif\u001b[0m\u001b[0;34m(\u001b[0m\u001b[0;34m(\u001b[0m\u001b[0mi\u001b[0m\u001b[0;34m+\u001b[0m\u001b[0;36m1\u001b[0m\u001b[0;34m)\u001b[0m\u001b[0;34m%\u001b[0m\u001b[0;36m500\u001b[0m \u001b[0;34m==\u001b[0m \u001b[0;36m0\u001b[0m\u001b[0;34m)\u001b[0m\u001b[0;34m:\u001b[0m\u001b[0;34m\u001b[0m\u001b[0;34m\u001b[0m\u001b[0m\n\u001b[1;32m     11\u001b[0m         \u001b[0mprint\u001b[0m\u001b[0;34m(\u001b[0m\u001b[0;34m\">%d  d1 = [%.3f]  d2 = [%0.3f]  g = [%.3f]\"\u001b[0m \u001b[0;34m%\u001b[0m \u001b[0;34m(\u001b[0m\u001b[0mi\u001b[0m\u001b[0;34m+\u001b[0m\u001b[0;36m1\u001b[0m\u001b[0;34m,\u001b[0m \u001b[0md_loss1\u001b[0m\u001b[0;34m,\u001b[0m \u001b[0md_loss2\u001b[0m\u001b[0;34m,\u001b[0m \u001b[0mg_loss\u001b[0m\u001b[0;34m)\u001b[0m\u001b[0;34m)\u001b[0m\u001b[0;34m\u001b[0m\u001b[0;34m\u001b[0m\u001b[0m\n",
            "\u001b[0;32m/opt/conda/lib/python3.7/site-packages/keras/engine/training.py\u001b[0m in \u001b[0;36mtrain_on_batch\u001b[0;34m(self, x, y, sample_weight, class_weight, reset_metrics)\u001b[0m\n\u001b[1;32m   1512\u001b[0m             \u001b[0mins\u001b[0m \u001b[0;34m=\u001b[0m \u001b[0mx\u001b[0m \u001b[0;34m+\u001b[0m \u001b[0my\u001b[0m \u001b[0;34m+\u001b[0m \u001b[0msample_weights\u001b[0m\u001b[0;34m\u001b[0m\u001b[0;34m\u001b[0m\u001b[0m\n\u001b[1;32m   1513\u001b[0m         \u001b[0mself\u001b[0m\u001b[0;34m.\u001b[0m\u001b[0m_make_train_function\u001b[0m\u001b[0;34m(\u001b[0m\u001b[0;34m)\u001b[0m\u001b[0;34m\u001b[0m\u001b[0;34m\u001b[0m\u001b[0m\n\u001b[0;32m-> 1514\u001b[0;31m         \u001b[0moutputs\u001b[0m \u001b[0;34m=\u001b[0m \u001b[0mself\u001b[0m\u001b[0;34m.\u001b[0m\u001b[0mtrain_function\u001b[0m\u001b[0;34m(\u001b[0m\u001b[0mins\u001b[0m\u001b[0;34m)\u001b[0m\u001b[0;34m\u001b[0m\u001b[0;34m\u001b[0m\u001b[0m\n\u001b[0m\u001b[1;32m   1515\u001b[0m \u001b[0;34m\u001b[0m\u001b[0m\n\u001b[1;32m   1516\u001b[0m         \u001b[0;32mif\u001b[0m \u001b[0mreset_metrics\u001b[0m\u001b[0;34m:\u001b[0m\u001b[0;34m\u001b[0m\u001b[0;34m\u001b[0m\u001b[0m\n",
            "\u001b[0;32m/opt/conda/lib/python3.7/site-packages/tensorflow_core/python/keras/backend.py\u001b[0m in \u001b[0;36m__call__\u001b[0;34m(self, inputs)\u001b[0m\n\u001b[1;32m   3725\u001b[0m         \u001b[0mvalue\u001b[0m \u001b[0;34m=\u001b[0m \u001b[0mmath_ops\u001b[0m\u001b[0;34m.\u001b[0m\u001b[0mcast\u001b[0m\u001b[0;34m(\u001b[0m\u001b[0mvalue\u001b[0m\u001b[0;34m,\u001b[0m \u001b[0mtensor\u001b[0m\u001b[0;34m.\u001b[0m\u001b[0mdtype\u001b[0m\u001b[0;34m)\u001b[0m\u001b[0;34m\u001b[0m\u001b[0;34m\u001b[0m\u001b[0m\n\u001b[1;32m   3726\u001b[0m       \u001b[0mconverted_inputs\u001b[0m\u001b[0;34m.\u001b[0m\u001b[0mappend\u001b[0m\u001b[0;34m(\u001b[0m\u001b[0mvalue\u001b[0m\u001b[0;34m)\u001b[0m\u001b[0;34m\u001b[0m\u001b[0;34m\u001b[0m\u001b[0m\n\u001b[0;32m-> 3727\u001b[0;31m     \u001b[0moutputs\u001b[0m \u001b[0;34m=\u001b[0m \u001b[0mself\u001b[0m\u001b[0;34m.\u001b[0m\u001b[0m_graph_fn\u001b[0m\u001b[0;34m(\u001b[0m\u001b[0;34m*\u001b[0m\u001b[0mconverted_inputs\u001b[0m\u001b[0;34m)\u001b[0m\u001b[0;34m\u001b[0m\u001b[0;34m\u001b[0m\u001b[0m\n\u001b[0m\u001b[1;32m   3728\u001b[0m \u001b[0;34m\u001b[0m\u001b[0m\n\u001b[1;32m   3729\u001b[0m     \u001b[0;31m# EagerTensor.numpy() will often make a copy to ensure memory safety.\u001b[0m\u001b[0;34m\u001b[0m\u001b[0;34m\u001b[0m\u001b[0;34m\u001b[0m\u001b[0m\n",
            "\u001b[0;32m/opt/conda/lib/python3.7/site-packages/tensorflow_core/python/eager/function.py\u001b[0m in \u001b[0;36m__call__\u001b[0;34m(self, *args, **kwargs)\u001b[0m\n\u001b[1;32m   1549\u001b[0m       \u001b[0mTypeError\u001b[0m\u001b[0;34m:\u001b[0m \u001b[0mFor\u001b[0m \u001b[0minvalid\u001b[0m \u001b[0mpositional\u001b[0m\u001b[0;34m/\u001b[0m\u001b[0mkeyword\u001b[0m \u001b[0margument\u001b[0m \u001b[0mcombinations\u001b[0m\u001b[0;34m.\u001b[0m\u001b[0;34m\u001b[0m\u001b[0;34m\u001b[0m\u001b[0m\n\u001b[1;32m   1550\u001b[0m     \"\"\"\n\u001b[0;32m-> 1551\u001b[0;31m     \u001b[0;32mreturn\u001b[0m \u001b[0mself\u001b[0m\u001b[0;34m.\u001b[0m\u001b[0m_call_impl\u001b[0m\u001b[0;34m(\u001b[0m\u001b[0margs\u001b[0m\u001b[0;34m,\u001b[0m \u001b[0mkwargs\u001b[0m\u001b[0;34m)\u001b[0m\u001b[0;34m\u001b[0m\u001b[0;34m\u001b[0m\u001b[0m\n\u001b[0m\u001b[1;32m   1552\u001b[0m \u001b[0;34m\u001b[0m\u001b[0m\n\u001b[1;32m   1553\u001b[0m   \u001b[0;32mdef\u001b[0m \u001b[0m_call_impl\u001b[0m\u001b[0;34m(\u001b[0m\u001b[0mself\u001b[0m\u001b[0;34m,\u001b[0m \u001b[0margs\u001b[0m\u001b[0;34m,\u001b[0m \u001b[0mkwargs\u001b[0m\u001b[0;34m,\u001b[0m \u001b[0mcancellation_manager\u001b[0m\u001b[0;34m=\u001b[0m\u001b[0;32mNone\u001b[0m\u001b[0;34m)\u001b[0m\u001b[0;34m:\u001b[0m\u001b[0;34m\u001b[0m\u001b[0;34m\u001b[0m\u001b[0m\n",
            "\u001b[0;32m/opt/conda/lib/python3.7/site-packages/tensorflow_core/python/eager/function.py\u001b[0m in \u001b[0;36m_call_impl\u001b[0;34m(self, args, kwargs, cancellation_manager)\u001b[0m\n\u001b[1;32m   1589\u001b[0m       raise TypeError(\"Keyword arguments {} unknown. Expected {}.\".format(\n\u001b[1;32m   1590\u001b[0m           list(kwargs.keys()), list(self._arg_keywords)))\n\u001b[0;32m-> 1591\u001b[0;31m     \u001b[0;32mreturn\u001b[0m \u001b[0mself\u001b[0m\u001b[0;34m.\u001b[0m\u001b[0m_call_flat\u001b[0m\u001b[0;34m(\u001b[0m\u001b[0margs\u001b[0m\u001b[0;34m,\u001b[0m \u001b[0mself\u001b[0m\u001b[0;34m.\u001b[0m\u001b[0mcaptured_inputs\u001b[0m\u001b[0;34m,\u001b[0m \u001b[0mcancellation_manager\u001b[0m\u001b[0;34m)\u001b[0m\u001b[0;34m\u001b[0m\u001b[0;34m\u001b[0m\u001b[0m\n\u001b[0m\u001b[1;32m   1592\u001b[0m \u001b[0;34m\u001b[0m\u001b[0m\n\u001b[1;32m   1593\u001b[0m   \u001b[0;32mdef\u001b[0m \u001b[0m_filtered_call\u001b[0m\u001b[0;34m(\u001b[0m\u001b[0mself\u001b[0m\u001b[0;34m,\u001b[0m \u001b[0margs\u001b[0m\u001b[0;34m,\u001b[0m \u001b[0mkwargs\u001b[0m\u001b[0;34m)\u001b[0m\u001b[0;34m:\u001b[0m\u001b[0;34m\u001b[0m\u001b[0;34m\u001b[0m\u001b[0m\n",
            "\u001b[0;32m/opt/conda/lib/python3.7/site-packages/tensorflow_core/python/eager/function.py\u001b[0m in \u001b[0;36m_call_flat\u001b[0;34m(self, args, captured_inputs, cancellation_manager)\u001b[0m\n\u001b[1;32m   1690\u001b[0m       \u001b[0;31m# No tape is watching; skip to running the function.\u001b[0m\u001b[0;34m\u001b[0m\u001b[0;34m\u001b[0m\u001b[0;34m\u001b[0m\u001b[0m\n\u001b[1;32m   1691\u001b[0m       return self._build_call_outputs(self._inference_function.call(\n\u001b[0;32m-> 1692\u001b[0;31m           ctx, args, cancellation_manager=cancellation_manager))\n\u001b[0m\u001b[1;32m   1693\u001b[0m     forward_backward = self._select_forward_and_backward_functions(\n\u001b[1;32m   1694\u001b[0m         \u001b[0margs\u001b[0m\u001b[0;34m,\u001b[0m\u001b[0;34m\u001b[0m\u001b[0;34m\u001b[0m\u001b[0m\n",
            "\u001b[0;32m/opt/conda/lib/python3.7/site-packages/tensorflow_core/python/eager/function.py\u001b[0m in \u001b[0;36mcall\u001b[0;34m(self, ctx, args, cancellation_manager)\u001b[0m\n\u001b[1;32m    543\u001b[0m               \u001b[0minputs\u001b[0m\u001b[0;34m=\u001b[0m\u001b[0margs\u001b[0m\u001b[0;34m,\u001b[0m\u001b[0;34m\u001b[0m\u001b[0;34m\u001b[0m\u001b[0m\n\u001b[1;32m    544\u001b[0m               \u001b[0mattrs\u001b[0m\u001b[0;34m=\u001b[0m\u001b[0;34m(\u001b[0m\u001b[0;34m\"executor_type\"\u001b[0m\u001b[0;34m,\u001b[0m \u001b[0mexecutor_type\u001b[0m\u001b[0;34m,\u001b[0m \u001b[0;34m\"config_proto\"\u001b[0m\u001b[0;34m,\u001b[0m \u001b[0mconfig\u001b[0m\u001b[0;34m)\u001b[0m\u001b[0;34m,\u001b[0m\u001b[0;34m\u001b[0m\u001b[0;34m\u001b[0m\u001b[0m\n\u001b[0;32m--> 545\u001b[0;31m               ctx=ctx)\n\u001b[0m\u001b[1;32m    546\u001b[0m         \u001b[0;32melse\u001b[0m\u001b[0;34m:\u001b[0m\u001b[0;34m\u001b[0m\u001b[0;34m\u001b[0m\u001b[0m\n\u001b[1;32m    547\u001b[0m           outputs = execute.execute_with_cancellation(\n",
            "\u001b[0;32m/opt/conda/lib/python3.7/site-packages/tensorflow_core/python/eager/execute.py\u001b[0m in \u001b[0;36mquick_execute\u001b[0;34m(op_name, num_outputs, inputs, attrs, ctx, name)\u001b[0m\n\u001b[1;32m     59\u001b[0m     tensors = pywrap_tensorflow.TFE_Py_Execute(ctx._handle, device_name,\n\u001b[1;32m     60\u001b[0m                                                \u001b[0mop_name\u001b[0m\u001b[0;34m,\u001b[0m \u001b[0minputs\u001b[0m\u001b[0;34m,\u001b[0m \u001b[0mattrs\u001b[0m\u001b[0;34m,\u001b[0m\u001b[0;34m\u001b[0m\u001b[0;34m\u001b[0m\u001b[0m\n\u001b[0;32m---> 61\u001b[0;31m                                                num_outputs)\n\u001b[0m\u001b[1;32m     62\u001b[0m   \u001b[0;32mexcept\u001b[0m \u001b[0mcore\u001b[0m\u001b[0;34m.\u001b[0m\u001b[0m_NotOkStatusException\u001b[0m \u001b[0;32mas\u001b[0m \u001b[0me\u001b[0m\u001b[0;34m:\u001b[0m\u001b[0;34m\u001b[0m\u001b[0;34m\u001b[0m\u001b[0m\n\u001b[1;32m     63\u001b[0m     \u001b[0;32mif\u001b[0m \u001b[0mname\u001b[0m \u001b[0;32mis\u001b[0m \u001b[0;32mnot\u001b[0m \u001b[0;32mNone\u001b[0m\u001b[0;34m:\u001b[0m\u001b[0;34m\u001b[0m\u001b[0;34m\u001b[0m\u001b[0m\n",
            "\u001b[0;31mKeyboardInterrupt\u001b[0m: "
          ]
        }
      ]
    },
    {
      "cell_type": "code",
      "metadata": {
        "id": "S8jC-fHg0fRe",
        "trusted": true,
        "colab_type": "code",
        "colab": {}
      },
      "source": [
        "summarize_performance(g_model, data, 9999)"
      ],
      "execution_count": 0,
      "outputs": []
    },
    {
      "cell_type": "code",
      "metadata": {
        "trusted": true,
        "id": "Amzz8xJtH6CF",
        "colab_type": "code",
        "colab": {}
      },
      "source": [
        ""
      ],
      "execution_count": 0,
      "outputs": []
    }
  ]
}